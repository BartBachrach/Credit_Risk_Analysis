{
  "cells": [
    {
      "cell_type": "code",
      "execution_count": 1,
      "metadata": {
        "id": "2BB3PDPwyy3w"
      },
      "outputs": [],
      "source": [
        "import warnings\n",
        "warnings.filterwarnings('ignore')"
      ]
    },
    {
      "cell_type": "code",
      "execution_count": 2,
      "metadata": {
        "id": "QuEqlaaVyy3x"
      },
      "outputs": [],
      "source": [
        "import numpy as np\n",
        "import pandas as pd\n",
        "from pathlib import Path\n",
        "from collections import Counter"
      ]
    },
    {
      "cell_type": "code",
      "execution_count": 3,
      "metadata": {
        "id": "x-mB-kVayy3x"
      },
      "outputs": [],
      "source": [
        "from sklearn.metrics import balanced_accuracy_score\n",
        "from sklearn.metrics import confusion_matrix\n",
        "from imblearn.metrics import classification_report_imbalanced"
      ]
    },
    {
      "cell_type": "markdown",
      "metadata": {
        "id": "z2RnhItNyy3y"
      },
      "source": [
        "# Read the CSV and Perform Basic Data Cleaning"
      ]
    },
    {
      "cell_type": "code",
      "execution_count": 4,
      "metadata": {
        "id": "UFAPIFoSyy3y"
      },
      "outputs": [],
      "source": [
        "# https://help.lendingclub.com/hc/en-us/articles/215488038-What-do-the-different-Note-statuses-mean-\n",
        "\n",
        "columns = [\n",
        "    \"loan_amnt\", \"int_rate\", \"installment\", \"home_ownership\",\n",
        "    \"annual_inc\", \"verification_status\", \"issue_d\", \"loan_status\",\n",
        "    \"pymnt_plan\", \"dti\", \"delinq_2yrs\", \"inq_last_6mths\",\n",
        "    \"open_acc\", \"pub_rec\", \"revol_bal\", \"total_acc\",\n",
        "    \"initial_list_status\", \"out_prncp\", \"out_prncp_inv\", \"total_pymnt\",\n",
        "    \"total_pymnt_inv\", \"total_rec_prncp\", \"total_rec_int\", \"total_rec_late_fee\",\n",
        "    \"recoveries\", \"collection_recovery_fee\", \"last_pymnt_amnt\", \"next_pymnt_d\",\n",
        "    \"collections_12_mths_ex_med\", \"policy_code\", \"application_type\", \"acc_now_delinq\",\n",
        "    \"tot_coll_amt\", \"tot_cur_bal\", \"open_acc_6m\", \"open_act_il\",\n",
        "    \"open_il_12m\", \"open_il_24m\", \"mths_since_rcnt_il\", \"total_bal_il\",\n",
        "    \"il_util\", \"open_rv_12m\", \"open_rv_24m\", \"max_bal_bc\",\n",
        "    \"all_util\", \"total_rev_hi_lim\", \"inq_fi\", \"total_cu_tl\",\n",
        "    \"inq_last_12m\", \"acc_open_past_24mths\", \"avg_cur_bal\", \"bc_open_to_buy\",\n",
        "    \"bc_util\", \"chargeoff_within_12_mths\", \"delinq_amnt\", \"mo_sin_old_il_acct\",\n",
        "    \"mo_sin_old_rev_tl_op\", \"mo_sin_rcnt_rev_tl_op\", \"mo_sin_rcnt_tl\", \"mort_acc\",\n",
        "    \"mths_since_recent_bc\", \"mths_since_recent_inq\", \"num_accts_ever_120_pd\", \"num_actv_bc_tl\",\n",
        "    \"num_actv_rev_tl\", \"num_bc_sats\", \"num_bc_tl\", \"num_il_tl\",\n",
        "    \"num_op_rev_tl\", \"num_rev_accts\", \"num_rev_tl_bal_gt_0\",\n",
        "    \"num_sats\", \"num_tl_120dpd_2m\", \"num_tl_30dpd\", \"num_tl_90g_dpd_24m\",\n",
        "    \"num_tl_op_past_12m\", \"pct_tl_nvr_dlq\", \"percent_bc_gt_75\", \"pub_rec_bankruptcies\",\n",
        "    \"tax_liens\", \"tot_hi_cred_lim\", \"total_bal_ex_mort\", \"total_bc_limit\",\n",
        "    \"total_il_high_credit_limit\", \"hardship_flag\", \"debt_settlement_flag\"\n",
        "]\n",
        "\n",
        "target = [\"loan_status\"]"
      ]
    },
    {
      "cell_type": "code",
      "execution_count": 5,
      "metadata": {
        "colab": {
          "base_uri": "https://localhost:8080/",
          "height": 386
        },
        "id": "T_ASqNK2yy3z",
        "outputId": "a8d9ba34-2d0e-48ec-a05b-43812a12ce62"
      },
      "outputs": [
        {
          "data": {
            "text/html": [
              "<div>\n",
              "<style scoped>\n",
              "    .dataframe tbody tr th:only-of-type {\n",
              "        vertical-align: middle;\n",
              "    }\n",
              "\n",
              "    .dataframe tbody tr th {\n",
              "        vertical-align: top;\n",
              "    }\n",
              "\n",
              "    .dataframe thead th {\n",
              "        text-align: right;\n",
              "    }\n",
              "</style>\n",
              "<table border=\"1\" class=\"dataframe\">\n",
              "  <thead>\n",
              "    <tr style=\"text-align: right;\">\n",
              "      <th></th>\n",
              "      <th>loan_amnt</th>\n",
              "      <th>int_rate</th>\n",
              "      <th>installment</th>\n",
              "      <th>home_ownership</th>\n",
              "      <th>annual_inc</th>\n",
              "      <th>verification_status</th>\n",
              "      <th>issue_d</th>\n",
              "      <th>loan_status</th>\n",
              "      <th>pymnt_plan</th>\n",
              "      <th>dti</th>\n",
              "      <th>...</th>\n",
              "      <th>pct_tl_nvr_dlq</th>\n",
              "      <th>percent_bc_gt_75</th>\n",
              "      <th>pub_rec_bankruptcies</th>\n",
              "      <th>tax_liens</th>\n",
              "      <th>tot_hi_cred_lim</th>\n",
              "      <th>total_bal_ex_mort</th>\n",
              "      <th>total_bc_limit</th>\n",
              "      <th>total_il_high_credit_limit</th>\n",
              "      <th>hardship_flag</th>\n",
              "      <th>debt_settlement_flag</th>\n",
              "    </tr>\n",
              "  </thead>\n",
              "  <tbody>\n",
              "    <tr>\n",
              "      <th>0</th>\n",
              "      <td>10500.0</td>\n",
              "      <td>0.1719</td>\n",
              "      <td>375.35</td>\n",
              "      <td>RENT</td>\n",
              "      <td>66000.0</td>\n",
              "      <td>Source Verified</td>\n",
              "      <td>Mar-2019</td>\n",
              "      <td>low_risk</td>\n",
              "      <td>n</td>\n",
              "      <td>27.24</td>\n",
              "      <td>...</td>\n",
              "      <td>85.7</td>\n",
              "      <td>100.0</td>\n",
              "      <td>0.0</td>\n",
              "      <td>0.0</td>\n",
              "      <td>65687.0</td>\n",
              "      <td>38199.0</td>\n",
              "      <td>2000.0</td>\n",
              "      <td>61987.0</td>\n",
              "      <td>N</td>\n",
              "      <td>N</td>\n",
              "    </tr>\n",
              "    <tr>\n",
              "      <th>1</th>\n",
              "      <td>25000.0</td>\n",
              "      <td>0.2000</td>\n",
              "      <td>929.09</td>\n",
              "      <td>MORTGAGE</td>\n",
              "      <td>105000.0</td>\n",
              "      <td>Verified</td>\n",
              "      <td>Mar-2019</td>\n",
              "      <td>low_risk</td>\n",
              "      <td>n</td>\n",
              "      <td>20.23</td>\n",
              "      <td>...</td>\n",
              "      <td>91.2</td>\n",
              "      <td>50.0</td>\n",
              "      <td>1.0</td>\n",
              "      <td>0.0</td>\n",
              "      <td>271427.0</td>\n",
              "      <td>60641.0</td>\n",
              "      <td>41200.0</td>\n",
              "      <td>49197.0</td>\n",
              "      <td>N</td>\n",
              "      <td>N</td>\n",
              "    </tr>\n",
              "    <tr>\n",
              "      <th>2</th>\n",
              "      <td>20000.0</td>\n",
              "      <td>0.2000</td>\n",
              "      <td>529.88</td>\n",
              "      <td>MORTGAGE</td>\n",
              "      <td>56000.0</td>\n",
              "      <td>Verified</td>\n",
              "      <td>Mar-2019</td>\n",
              "      <td>low_risk</td>\n",
              "      <td>n</td>\n",
              "      <td>24.26</td>\n",
              "      <td>...</td>\n",
              "      <td>66.7</td>\n",
              "      <td>50.0</td>\n",
              "      <td>0.0</td>\n",
              "      <td>0.0</td>\n",
              "      <td>60644.0</td>\n",
              "      <td>45684.0</td>\n",
              "      <td>7500.0</td>\n",
              "      <td>43144.0</td>\n",
              "      <td>N</td>\n",
              "      <td>N</td>\n",
              "    </tr>\n",
              "    <tr>\n",
              "      <th>3</th>\n",
              "      <td>10000.0</td>\n",
              "      <td>0.1640</td>\n",
              "      <td>353.55</td>\n",
              "      <td>RENT</td>\n",
              "      <td>92000.0</td>\n",
              "      <td>Verified</td>\n",
              "      <td>Mar-2019</td>\n",
              "      <td>low_risk</td>\n",
              "      <td>n</td>\n",
              "      <td>31.44</td>\n",
              "      <td>...</td>\n",
              "      <td>100.0</td>\n",
              "      <td>50.0</td>\n",
              "      <td>1.0</td>\n",
              "      <td>0.0</td>\n",
              "      <td>99506.0</td>\n",
              "      <td>68784.0</td>\n",
              "      <td>19700.0</td>\n",
              "      <td>76506.0</td>\n",
              "      <td>N</td>\n",
              "      <td>N</td>\n",
              "    </tr>\n",
              "    <tr>\n",
              "      <th>4</th>\n",
              "      <td>22000.0</td>\n",
              "      <td>0.1474</td>\n",
              "      <td>520.39</td>\n",
              "      <td>MORTGAGE</td>\n",
              "      <td>52000.0</td>\n",
              "      <td>Not Verified</td>\n",
              "      <td>Mar-2019</td>\n",
              "      <td>low_risk</td>\n",
              "      <td>n</td>\n",
              "      <td>18.76</td>\n",
              "      <td>...</td>\n",
              "      <td>100.0</td>\n",
              "      <td>0.0</td>\n",
              "      <td>0.0</td>\n",
              "      <td>0.0</td>\n",
              "      <td>219750.0</td>\n",
              "      <td>25919.0</td>\n",
              "      <td>27600.0</td>\n",
              "      <td>20000.0</td>\n",
              "      <td>N</td>\n",
              "      <td>N</td>\n",
              "    </tr>\n",
              "    <tr>\n",
              "      <th>...</th>\n",
              "      <td>...</td>\n",
              "      <td>...</td>\n",
              "      <td>...</td>\n",
              "      <td>...</td>\n",
              "      <td>...</td>\n",
              "      <td>...</td>\n",
              "      <td>...</td>\n",
              "      <td>...</td>\n",
              "      <td>...</td>\n",
              "      <td>...</td>\n",
              "      <td>...</td>\n",
              "      <td>...</td>\n",
              "      <td>...</td>\n",
              "      <td>...</td>\n",
              "      <td>...</td>\n",
              "      <td>...</td>\n",
              "      <td>...</td>\n",
              "      <td>...</td>\n",
              "      <td>...</td>\n",
              "      <td>...</td>\n",
              "      <td>...</td>\n",
              "    </tr>\n",
              "    <tr>\n",
              "      <th>68812</th>\n",
              "      <td>10000.0</td>\n",
              "      <td>0.1502</td>\n",
              "      <td>346.76</td>\n",
              "      <td>RENT</td>\n",
              "      <td>26000.0</td>\n",
              "      <td>Source Verified</td>\n",
              "      <td>Jan-2019</td>\n",
              "      <td>low_risk</td>\n",
              "      <td>n</td>\n",
              "      <td>9.60</td>\n",
              "      <td>...</td>\n",
              "      <td>80.0</td>\n",
              "      <td>0.0</td>\n",
              "      <td>0.0</td>\n",
              "      <td>0.0</td>\n",
              "      <td>20625.0</td>\n",
              "      <td>6798.0</td>\n",
              "      <td>11300.0</td>\n",
              "      <td>5425.0</td>\n",
              "      <td>N</td>\n",
              "      <td>N</td>\n",
              "    </tr>\n",
              "    <tr>\n",
              "      <th>68813</th>\n",
              "      <td>12000.0</td>\n",
              "      <td>0.2727</td>\n",
              "      <td>368.37</td>\n",
              "      <td>RENT</td>\n",
              "      <td>63000.0</td>\n",
              "      <td>Not Verified</td>\n",
              "      <td>Jan-2019</td>\n",
              "      <td>low_risk</td>\n",
              "      <td>n</td>\n",
              "      <td>29.07</td>\n",
              "      <td>...</td>\n",
              "      <td>96.2</td>\n",
              "      <td>0.0</td>\n",
              "      <td>0.0</td>\n",
              "      <td>0.0</td>\n",
              "      <td>87939.0</td>\n",
              "      <td>60350.0</td>\n",
              "      <td>13500.0</td>\n",
              "      <td>62939.0</td>\n",
              "      <td>N</td>\n",
              "      <td>N</td>\n",
              "    </tr>\n",
              "    <tr>\n",
              "      <th>68814</th>\n",
              "      <td>5000.0</td>\n",
              "      <td>0.1992</td>\n",
              "      <td>185.62</td>\n",
              "      <td>MORTGAGE</td>\n",
              "      <td>52000.0</td>\n",
              "      <td>Source Verified</td>\n",
              "      <td>Jan-2019</td>\n",
              "      <td>low_risk</td>\n",
              "      <td>n</td>\n",
              "      <td>14.86</td>\n",
              "      <td>...</td>\n",
              "      <td>100.0</td>\n",
              "      <td>0.0</td>\n",
              "      <td>1.0</td>\n",
              "      <td>0.0</td>\n",
              "      <td>30592.0</td>\n",
              "      <td>18611.0</td>\n",
              "      <td>3600.0</td>\n",
              "      <td>18492.0</td>\n",
              "      <td>N</td>\n",
              "      <td>N</td>\n",
              "    </tr>\n",
              "    <tr>\n",
              "      <th>68815</th>\n",
              "      <td>40000.0</td>\n",
              "      <td>0.0646</td>\n",
              "      <td>1225.24</td>\n",
              "      <td>MORTGAGE</td>\n",
              "      <td>520000.0</td>\n",
              "      <td>Verified</td>\n",
              "      <td>Jan-2019</td>\n",
              "      <td>low_risk</td>\n",
              "      <td>n</td>\n",
              "      <td>9.96</td>\n",
              "      <td>...</td>\n",
              "      <td>98.2</td>\n",
              "      <td>12.5</td>\n",
              "      <td>0.0</td>\n",
              "      <td>0.0</td>\n",
              "      <td>1033574.0</td>\n",
              "      <td>95958.0</td>\n",
              "      <td>100800.0</td>\n",
              "      <td>78634.0</td>\n",
              "      <td>N</td>\n",
              "      <td>N</td>\n",
              "    </tr>\n",
              "    <tr>\n",
              "      <th>68816</th>\n",
              "      <td>16000.0</td>\n",
              "      <td>0.1131</td>\n",
              "      <td>350.36</td>\n",
              "      <td>MORTGAGE</td>\n",
              "      <td>72000.0</td>\n",
              "      <td>Verified</td>\n",
              "      <td>Jan-2019</td>\n",
              "      <td>low_risk</td>\n",
              "      <td>n</td>\n",
              "      <td>7.02</td>\n",
              "      <td>...</td>\n",
              "      <td>94.3</td>\n",
              "      <td>0.0</td>\n",
              "      <td>1.0</td>\n",
              "      <td>0.0</td>\n",
              "      <td>251486.0</td>\n",
              "      <td>74835.0</td>\n",
              "      <td>23000.0</td>\n",
              "      <td>63090.0</td>\n",
              "      <td>N</td>\n",
              "      <td>N</td>\n",
              "    </tr>\n",
              "  </tbody>\n",
              "</table>\n",
              "<p>68817 rows × 86 columns</p>\n",
              "</div>"
            ],
            "text/plain": [
              "       loan_amnt  int_rate  installment home_ownership  annual_inc  \\\n",
              "0        10500.0    0.1719       375.35           RENT     66000.0   \n",
              "1        25000.0    0.2000       929.09       MORTGAGE    105000.0   \n",
              "2        20000.0    0.2000       529.88       MORTGAGE     56000.0   \n",
              "3        10000.0    0.1640       353.55           RENT     92000.0   \n",
              "4        22000.0    0.1474       520.39       MORTGAGE     52000.0   \n",
              "...          ...       ...          ...            ...         ...   \n",
              "68812    10000.0    0.1502       346.76           RENT     26000.0   \n",
              "68813    12000.0    0.2727       368.37           RENT     63000.0   \n",
              "68814     5000.0    0.1992       185.62       MORTGAGE     52000.0   \n",
              "68815    40000.0    0.0646      1225.24       MORTGAGE    520000.0   \n",
              "68816    16000.0    0.1131       350.36       MORTGAGE     72000.0   \n",
              "\n",
              "      verification_status   issue_d loan_status pymnt_plan    dti  ...  \\\n",
              "0         Source Verified  Mar-2019    low_risk          n  27.24  ...   \n",
              "1                Verified  Mar-2019    low_risk          n  20.23  ...   \n",
              "2                Verified  Mar-2019    low_risk          n  24.26  ...   \n",
              "3                Verified  Mar-2019    low_risk          n  31.44  ...   \n",
              "4            Not Verified  Mar-2019    low_risk          n  18.76  ...   \n",
              "...                   ...       ...         ...        ...    ...  ...   \n",
              "68812     Source Verified  Jan-2019    low_risk          n   9.60  ...   \n",
              "68813        Not Verified  Jan-2019    low_risk          n  29.07  ...   \n",
              "68814     Source Verified  Jan-2019    low_risk          n  14.86  ...   \n",
              "68815            Verified  Jan-2019    low_risk          n   9.96  ...   \n",
              "68816            Verified  Jan-2019    low_risk          n   7.02  ...   \n",
              "\n",
              "       pct_tl_nvr_dlq  percent_bc_gt_75  pub_rec_bankruptcies  tax_liens  \\\n",
              "0                85.7             100.0                   0.0        0.0   \n",
              "1                91.2              50.0                   1.0        0.0   \n",
              "2                66.7              50.0                   0.0        0.0   \n",
              "3               100.0              50.0                   1.0        0.0   \n",
              "4               100.0               0.0                   0.0        0.0   \n",
              "...               ...               ...                   ...        ...   \n",
              "68812            80.0               0.0                   0.0        0.0   \n",
              "68813            96.2               0.0                   0.0        0.0   \n",
              "68814           100.0               0.0                   1.0        0.0   \n",
              "68815            98.2              12.5                   0.0        0.0   \n",
              "68816            94.3               0.0                   1.0        0.0   \n",
              "\n",
              "       tot_hi_cred_lim  total_bal_ex_mort total_bc_limit  \\\n",
              "0              65687.0            38199.0         2000.0   \n",
              "1             271427.0            60641.0        41200.0   \n",
              "2              60644.0            45684.0         7500.0   \n",
              "3              99506.0            68784.0        19700.0   \n",
              "4             219750.0            25919.0        27600.0   \n",
              "...                ...                ...            ...   \n",
              "68812          20625.0             6798.0        11300.0   \n",
              "68813          87939.0            60350.0        13500.0   \n",
              "68814          30592.0            18611.0         3600.0   \n",
              "68815        1033574.0            95958.0       100800.0   \n",
              "68816         251486.0            74835.0        23000.0   \n",
              "\n",
              "       total_il_high_credit_limit  hardship_flag  debt_settlement_flag  \n",
              "0                         61987.0              N                     N  \n",
              "1                         49197.0              N                     N  \n",
              "2                         43144.0              N                     N  \n",
              "3                         76506.0              N                     N  \n",
              "4                         20000.0              N                     N  \n",
              "...                           ...            ...                   ...  \n",
              "68812                      5425.0              N                     N  \n",
              "68813                     62939.0              N                     N  \n",
              "68814                     18492.0              N                     N  \n",
              "68815                     78634.0              N                     N  \n",
              "68816                     63090.0              N                     N  \n",
              "\n",
              "[68817 rows x 86 columns]"
            ]
          },
          "execution_count": 5,
          "metadata": {},
          "output_type": "execute_result"
        }
      ],
      "source": [
        "# Load the data\n",
        "file_path = Path('/Users/adambachrach/Desktop/Data_Bootcamp/linear_regression_salary/M17_Challenge/Module-17-Challenge-Resources/LoanStats_2019Q1.csv')\n",
        "df = pd.read_csv(file_path, skiprows=1)[:-2]\n",
        "df = df.loc[:, columns].copy()\n",
        "\n",
        "# Drop the null columns where all values are null\n",
        "df = df.dropna(axis='columns', how='all')\n",
        "\n",
        "# Drop the null rows\n",
        "df = df.dropna()\n",
        "\n",
        "# Remove the `Issued` loan status\n",
        "issued_mask = df['loan_status'] != 'Issued'\n",
        "df = df.loc[issued_mask]\n",
        "\n",
        "# convert interest rate to numerical\n",
        "df['int_rate'] = df['int_rate'].str.replace('%', '')\n",
        "df['int_rate'] = df['int_rate'].astype('float') / 100\n",
        "\n",
        "\n",
        "# Convert the target column values to low_risk and high_risk based on their values\n",
        "x = {'Current': 'low_risk'}   \n",
        "df = df.replace(x)\n",
        "\n",
        "x = dict.fromkeys(['Late (31-120 days)', 'Late (16-30 days)', 'Default', 'In Grace Period'], 'high_risk')    \n",
        "df = df.replace(x)\n",
        "\n",
        "df.reset_index(inplace=True, drop=True)\n",
        "\n",
        "df"
      ]
    },
    {
      "cell_type": "markdown",
      "metadata": {
        "id": "zkoPyre7yy30"
      },
      "source": [
        "# Split the Data into Training and Testing"
      ]
    },
    {
      "cell_type": "code",
      "execution_count": 6,
      "metadata": {
        "id": "1Fs2Vtwmyy30"
      },
      "outputs": [],
      "source": [
        "# Create our features\n",
        "X = df.drop(['loan_status'], axis=1)\n",
        "\n",
        "# Create our target\n",
        "y = df['loan_status']"
      ]
    },
    {
      "cell_type": "code",
      "execution_count": 7,
      "metadata": {
        "id": "_0q3TfH1yy30"
      },
      "outputs": [],
      "source": [
        "X = pd.get_dummies(X, columns=[\"home_ownership\", \"issue_d\", \"next_pymnt_d\", \"verification_status\", \"hardship_flag\", \"debt_settlement_flag\", \"pymnt_plan\", \"initial_list_status\", \"application_type\"])\n"
      ]
    },
    {
      "cell_type": "code",
      "execution_count": 8,
      "metadata": {
        "colab": {
          "base_uri": "https://localhost:8080/"
        },
        "id": "5hWpOH35yy31",
        "outputId": "0228e4ca-7910-4144-9e7d-8c17ce14468d"
      },
      "outputs": [
        {
          "data": {
            "text/plain": [
              "loan_amnt                     float64\n",
              "int_rate                      float64\n",
              "installment                   float64\n",
              "annual_inc                    float64\n",
              "dti                           float64\n",
              "delinq_2yrs                   float64\n",
              "inq_last_6mths                float64\n",
              "open_acc                      float64\n",
              "pub_rec                       float64\n",
              "revol_bal                     float64\n",
              "total_acc                     float64\n",
              "out_prncp                     float64\n",
              "out_prncp_inv                 float64\n",
              "total_pymnt                   float64\n",
              "total_pymnt_inv               float64\n",
              "total_rec_prncp               float64\n",
              "total_rec_int                 float64\n",
              "total_rec_late_fee            float64\n",
              "recoveries                    float64\n",
              "collection_recovery_fee       float64\n",
              "last_pymnt_amnt               float64\n",
              "collections_12_mths_ex_med    float64\n",
              "policy_code                   float64\n",
              "acc_now_delinq                float64\n",
              "tot_coll_amt                  float64\n",
              "tot_cur_bal                   float64\n",
              "open_acc_6m                   float64\n",
              "open_act_il                   float64\n",
              "open_il_12m                   float64\n",
              "open_il_24m                   float64\n",
              "dtype: object"
            ]
          },
          "execution_count": 8,
          "metadata": {},
          "output_type": "execute_result"
        }
      ],
      "source": [
        "X.dtypes.head(30)"
      ]
    },
    {
      "cell_type": "code",
      "execution_count": 9,
      "metadata": {
        "colab": {
          "base_uri": "https://localhost:8080/"
        },
        "id": "cKD6Gj1syy31",
        "outputId": "efc13880-9e16-4e2c-b27f-c8e3c4334402"
      },
      "outputs": [
        {
          "data": {
            "text/plain": [
              "low_risk     68470\n",
              "high_risk      347\n",
              "Name: loan_status, dtype: int64"
            ]
          },
          "execution_count": 9,
          "metadata": {},
          "output_type": "execute_result"
        }
      ],
      "source": [
        "# Check the balance of our target values\n",
        "df['loan_status'].value_counts()"
      ]
    },
    {
      "cell_type": "code",
      "execution_count": 10,
      "metadata": {
        "id": "NRghHfDlyy31"
      },
      "outputs": [],
      "source": [
        "from sklearn.model_selection import train_test_split\n",
        "from sklearn.preprocessing import StandardScaler\n",
        "X_train, X_test, y_train, y_test = train_test_split(X, y, random_state=1, stratify=y)\n",
        "scaler = StandardScaler().fit(X_train)\n",
        "X_train_scaled = scaler.transform(X_train)\n",
        "X_test_scaled = scaler.transform(X_test)"
      ]
    },
    {
      "cell_type": "markdown",
      "metadata": {
        "id": "cd1DZkLwyy31"
      },
      "source": [
        "# Ensemble Learners\n",
        "\n",
        "In this section, you will compare two ensemble algorithms to determine which algorithm results in the best performance. You will train a Balanced Random Forest Classifier and an Easy Ensemble AdaBoost classifier . For each algorithm, be sure to complete the folliowing steps:\n",
        "\n",
        "1. Train the model using the training data. \n",
        "2. Calculate the balanced accuracy score from sklearn.metrics.\n",
        "3. Print the confusion matrix from sklearn.metrics.\n",
        "4. Generate a classication report using the `imbalanced_classification_report` from imbalanced-learn.\n",
        "5. For the Balanced Random Forest Classifier onely, print the feature importance sorted in descending order (most important feature to least important) along with the feature score\n",
        "\n",
        "Note: Use a random state of 1 for each algorithm to ensure consistency between tests"
      ]
    },
    {
      "cell_type": "markdown",
      "metadata": {
        "id": "30ttvKanyy31"
      },
      "source": [
        "### Balanced Random Forest Classifier"
      ]
    },
    {
      "cell_type": "code",
      "execution_count": 11,
      "metadata": {
        "id": "ABLmVVgIyy32"
      },
      "outputs": [
        {
          "ename": "AttributeError",
          "evalue": "can't set attribute",
          "output_type": "error",
          "traceback": [
            "\u001b[0;31m---------------------------------------------------------------------------\u001b[0m",
            "\u001b[0;31mAttributeError\u001b[0m                            Traceback (most recent call last)",
            "\u001b[0;32m/var/folders/n9/nmyqjt296k35d4yvkrgc5nbw0000gn/T/ipykernel_20654/303214975.py\u001b[0m in \u001b[0;36m<module>\u001b[0;34m\u001b[0m\n\u001b[1;32m      2\u001b[0m \u001b[0;32mfrom\u001b[0m \u001b[0mimblearn\u001b[0m\u001b[0;34m.\u001b[0m\u001b[0mensemble\u001b[0m \u001b[0;32mimport\u001b[0m \u001b[0mBalancedRandomForestClassifier\u001b[0m\u001b[0;34m\u001b[0m\u001b[0;34m\u001b[0m\u001b[0m\n\u001b[1;32m      3\u001b[0m \u001b[0mmodel\u001b[0m \u001b[0;34m=\u001b[0m \u001b[0mBalancedRandomForestClassifier\u001b[0m\u001b[0;34m(\u001b[0m\u001b[0mn_estimators\u001b[0m \u001b[0;34m=\u001b[0m \u001b[0;36m100\u001b[0m\u001b[0;34m,\u001b[0m \u001b[0mrandom_state\u001b[0m\u001b[0;34m=\u001b[0m\u001b[0;36m1\u001b[0m\u001b[0;34m)\u001b[0m\u001b[0;34m\u001b[0m\u001b[0;34m\u001b[0m\u001b[0m\n\u001b[0;32m----> 4\u001b[0;31m \u001b[0mmodel\u001b[0m\u001b[0;34m.\u001b[0m\u001b[0mfit\u001b[0m\u001b[0;34m(\u001b[0m\u001b[0mX_train_scaled\u001b[0m\u001b[0;34m,\u001b[0m \u001b[0my_train\u001b[0m\u001b[0;34m)\u001b[0m\u001b[0;34m\u001b[0m\u001b[0;34m\u001b[0m\u001b[0m\n\u001b[0m\u001b[1;32m      5\u001b[0m \u001b[0my_pred\u001b[0m \u001b[0;34m=\u001b[0m \u001b[0mmodel\u001b[0m\u001b[0;34m.\u001b[0m\u001b[0mpredict\u001b[0m\u001b[0;34m(\u001b[0m\u001b[0mX_test_scaled\u001b[0m\u001b[0;34m)\u001b[0m\u001b[0;34m\u001b[0m\u001b[0;34m\u001b[0m\u001b[0m\n",
            "\u001b[0;32m/opt/anaconda3/envs/mlenv/lib/python3.7/site-packages/imblearn/ensemble/_forest.py\u001b[0m in \u001b[0;36mfit\u001b[0;34m(self, X, y, sample_weight)\u001b[0m\n\u001b[1;32m    433\u001b[0m \u001b[0;34m\u001b[0m\u001b[0m\n\u001b[1;32m    434\u001b[0m         \u001b[0;31m# Remap output\u001b[0m\u001b[0;34m\u001b[0m\u001b[0;34m\u001b[0m\u001b[0;34m\u001b[0m\u001b[0m\n\u001b[0;32m--> 435\u001b[0;31m         \u001b[0m_\u001b[0m\u001b[0;34m,\u001b[0m \u001b[0mself\u001b[0m\u001b[0;34m.\u001b[0m\u001b[0mn_features_\u001b[0m \u001b[0;34m=\u001b[0m \u001b[0mX\u001b[0m\u001b[0;34m.\u001b[0m\u001b[0mshape\u001b[0m\u001b[0;34m\u001b[0m\u001b[0;34m\u001b[0m\u001b[0m\n\u001b[0m\u001b[1;32m    436\u001b[0m \u001b[0;34m\u001b[0m\u001b[0m\n\u001b[1;32m    437\u001b[0m         \u001b[0my\u001b[0m \u001b[0;34m=\u001b[0m \u001b[0mnp\u001b[0m\u001b[0;34m.\u001b[0m\u001b[0matleast_1d\u001b[0m\u001b[0;34m(\u001b[0m\u001b[0my\u001b[0m\u001b[0;34m)\u001b[0m\u001b[0;34m\u001b[0m\u001b[0;34m\u001b[0m\u001b[0m\n",
            "\u001b[0;31mAttributeError\u001b[0m: can't set attribute"
          ]
        }
      ],
      "source": [
        "# Resample the training data with the BalancedRandomForestClassifier\n",
        "from imblearn.ensemble import BalancedRandomForestClassifier\n",
        "model = BalancedRandomForestClassifier(n_estimators = 100, random_state=1)\n",
        "model.fit(X_train_scaled, y_train)\n",
        "y_pred = model.predict(X_test_scaled)"
      ]
    },
    {
      "cell_type": "code",
      "execution_count": 20,
      "metadata": {
        "colab": {
          "base_uri": "https://localhost:8080/"
        },
        "id": "G1o4A-09yy32",
        "outputId": "a77f512e-0673-45b3-f6b5-f8edd02c7d45"
      },
      "outputs": [
        {
          "name": "stdout",
          "output_type": "stream",
          "text": [
            "0.795515028706518\n"
          ]
        }
      ],
      "source": [
        "# Calculated the balanced accuracy score\n",
        "from sklearn.metrics import balanced_accuracy_score\n",
        "y_pred = model.predict(X_test_scaled)\n",
        "print(balanced_accuracy_score(y_test, y_pred))"
      ]
    },
    {
      "cell_type": "code",
      "execution_count": 21,
      "metadata": {
        "colab": {
          "base_uri": "https://localhost:8080/"
        },
        "id": "y6xjpqLFyy32",
        "outputId": "652a90e6-b70b-4cb9-8b29-0c84bdee48d0"
      },
      "outputs": [
        {
          "name": "stdout",
          "output_type": "stream",
          "text": [
            "[[   32    18]\n",
            " [  580 11264]]\n"
          ]
        }
      ],
      "source": [
        "# Display the confusion matrix\n",
        "from sklearn.metrics import confusion_matrix\n",
        "print(confusion_matrix(y_test, y_pred))"
      ]
    },
    {
      "cell_type": "code",
      "execution_count": 22,
      "metadata": {
        "colab": {
          "base_uri": "https://localhost:8080/"
        },
        "id": "-Cpo1Gd1yy32",
        "outputId": "d2d47402-996b-4e3c-8f32-9713d7e6b62c"
      },
      "outputs": [
        {
          "name": "stdout",
          "output_type": "stream",
          "text": [
            "                   pre       rec       spe        f1       geo       iba       sup\n",
            "\n",
            "  high_risk       0.05      0.64      0.95      0.10      0.78      0.59        50\n",
            "   low_risk       1.00      0.95      0.64      0.97      0.78      0.63     11844\n",
            "\n",
            "avg / total       0.99      0.95      0.64      0.97      0.78      0.63     11894\n",
            "\n"
          ]
        }
      ],
      "source": [
        "# Print the imbalanced classification report\n",
        "from imblearn.metrics import classification_report_imbalanced\n",
        "print(classification_report_imbalanced(y_test, y_pred))"
      ]
    },
    {
      "cell_type": "code",
      "execution_count": 32,
      "metadata": {
        "colab": {
          "base_uri": "https://localhost:8080/"
        },
        "id": "fkfuofuuyy32",
        "outputId": "b453805b-fd10-4767-d5f3-023904999d4e"
      },
      "outputs": [
        {
          "data": {
            "text/plain": [
              "[('total_rec_prncp', 0.0980008977556363),\n",
              " ('total_rec_int', 0.08253117338502032),\n",
              " ('total_pymnt_inv', 0.07894260631529007),\n",
              " ('last_pymnt_amnt', 0.07428053751922604),\n",
              " ('total_pymnt', 0.06849557913322829),\n",
              " ('installment', 0.019204977869411072),\n",
              " ('int_rate', 0.017576772857529375),\n",
              " ('all_util', 0.01521334788824636),\n",
              " ('mo_sin_old_rev_tl_op', 0.015171042454630024),\n",
              " ('dti', 0.015087023499827065),\n",
              " ('annual_inc', 0.014649062802109404),\n",
              " ('max_bal_bc', 0.014547069707106805),\n",
              " ('bc_util', 0.014253189049252546),\n",
              " ('tot_cur_bal', 0.013623187169190983),\n",
              " ('avg_cur_bal', 0.013277322880883716),\n",
              " ('mths_since_recent_bc', 0.013256367856392781),\n",
              " ('il_util', 0.012855026436817282),\n",
              " ('issue_d_Mar-2019', 0.012498922395544561),\n",
              " ('tot_hi_cred_lim', 0.012448164657771965),\n",
              " ('num_op_rev_tl', 0.012429019557133573),\n",
              " ('total_bc_limit', 0.012360349734430303),\n",
              " ('mo_sin_old_il_acct', 0.01201910178342508),\n",
              " ('mo_sin_rcnt_rev_tl_op', 0.011938118204868533),\n",
              " ('total_bal_ex_mort', 0.01176764861736822),\n",
              " ('bc_open_to_buy', 0.011645628828595538),\n",
              " ('total_rev_hi_lim', 0.011515097943822834),\n",
              " ('out_prncp_inv', 0.011418850488058515),\n",
              " ('mths_since_rcnt_il', 0.011079074254854805),\n",
              " ('out_prncp', 0.011046879267265665),\n",
              " ('loan_amnt', 0.010837716457051129),\n",
              " ('revol_bal', 0.010832588906733706),\n",
              " ('num_bc_tl', 0.01081855537574742),\n",
              " ('num_il_tl', 0.010657952199272713),\n",
              " ('total_bal_il', 0.01060430985539806),\n",
              " ('open_acc', 0.010310271044971429),\n",
              " ('pct_tl_nvr_dlq', 0.009933223735503252),\n",
              " ('total_il_high_credit_limit', 0.009832073212675091),\n",
              " ('issue_d_Jan-2019', 0.009751026578635543),\n",
              " ('total_acc', 0.00949907661559409),\n",
              " ('inq_last_12m', 0.009341314154459216),\n",
              " ('mths_since_recent_inq', 0.009058883298988872),\n",
              " ('inq_fi', 0.0085451360749887),\n",
              " ('num_rev_accts', 0.008229918498728901),\n",
              " ('num_sats', 0.007621148204296348),\n",
              " ('num_actv_rev_tl', 0.007154136662386235),\n",
              " ('acc_open_past_24mths', 0.0068749853193927225),\n",
              " ('num_actv_bc_tl', 0.0066044936035590035),\n",
              " ('num_rev_tl_bal_gt_0', 0.006297612421783141),\n",
              " ('total_cu_tl', 0.006196960484209432),\n",
              " ('open_act_il', 0.006159240127299977),\n",
              " ('delinq_2yrs', 0.00590162864507723),\n",
              " ('total_rec_late_fee', 0.005684227265431472),\n",
              " ('num_tl_op_past_12m', 0.005632068397464958),\n",
              " ('mo_sin_rcnt_tl', 0.0056288698674001585),\n",
              " ('open_acc_6m', 0.005478980596100041),\n",
              " ('num_bc_sats', 0.005426630511994796),\n",
              " ('percent_bc_gt_75', 0.0048483495830806515),\n",
              " ('mort_acc', 0.004688624897582927),\n",
              " ('open_rv_24m', 0.0045720639902666),\n",
              " ('open_rv_12m', 0.0045429355007087285),\n",
              " ('open_il_24m', 0.003992345355689724),\n",
              " ('issue_d_Feb-2019', 0.0035714192569550685),\n",
              " ('open_il_12m', 0.003376510502705428),\n",
              " ('num_accts_ever_120_pd', 0.0027529813265802627),\n",
              " ('tot_coll_amt', 0.002652170142194782),\n",
              " ('verification_status_Not Verified', 0.002466185083684583),\n",
              " ('verification_status_Source Verified', 0.002436120451867889),\n",
              " ('next_pymnt_d_May-2019', 0.0024314854059367488),\n",
              " ('inq_last_6mths', 0.0022915772611888314),\n",
              " ('verification_status_Verified', 0.0015564804349717273),\n",
              " ('home_ownership_MORTGAGE', 0.0015245358537427627),\n",
              " ('home_ownership_RENT', 0.0014521866243257535),\n",
              " ('pub_rec', 0.0014091279919313795),\n",
              " ('next_pymnt_d_Apr-2019', 0.0013972121355452297),\n",
              " ('application_type_Individual', 0.0010263534171179665),\n",
              " ('num_tl_90g_dpd_24m', 0.0009039561716579896),\n",
              " ('home_ownership_OWN', 0.0008951230292340255),\n",
              " ('initial_list_status_f', 0.0007242053922648211),\n",
              " ('application_type_Joint App', 0.000669154094046267),\n",
              " ('pub_rec_bankruptcies', 0.0006113484723896006),\n",
              " ('home_ownership_ANY', 0.0004319499063536263),\n",
              " ('initial_list_status_w', 0.0003406422553867021),\n",
              " ('collections_12_mths_ex_med', 0.00023206872573505638),\n",
              " ('chargeoff_within_12_mths', 0.00015781830877335416),\n",
              " ('recoveries', 0.0),\n",
              " ('collection_recovery_fee', 0.0),\n",
              " ('policy_code', 0.0),\n",
              " ('acc_now_delinq', 0.0),\n",
              " ('delinq_amnt', 0.0),\n",
              " ('num_tl_120dpd_2m', 0.0),\n",
              " ('num_tl_30dpd', 0.0),\n",
              " ('tax_liens', 0.0),\n",
              " ('hardship_flag_N', 0.0),\n",
              " ('debt_settlement_flag_N', 0.0),\n",
              " ('pymnt_plan_n', 0.0)]"
            ]
          },
          "execution_count": 32,
          "metadata": {},
          "output_type": "execute_result"
        }
      ],
      "source": [
        "# List the features sorted in descending order by feature importance\n",
        "important = sorted(zip(X.columns, model.feature_importances_), key = lambda x: x[1], reverse = True)\n",
        "\n",
        "important"
      ]
    },
    {
      "cell_type": "markdown",
      "metadata": {
        "id": "SZpOc0Ncyy32"
      },
      "source": [
        "### Easy Ensemble AdaBoost Classifier"
      ]
    },
    {
      "cell_type": "code",
      "execution_count": 11,
      "metadata": {
        "colab": {
          "base_uri": "https://localhost:8080/",
          "height": 222
        },
        "id": "cI4sp4EVyy32",
        "outputId": "f858bc6e-d344-4952-ae33-6a2e172776d9"
      },
      "outputs": [],
      "source": [
        "# Train the EasyEnsembleClassifier\n",
        "from imblearn.ensemble import EasyEnsembleClassifier\n",
        "eec = EasyEnsembleClassifier(random_state = 1, n_estimators=100)\n",
        "eec.fit(X_train_scaled, y_train)\n",
        "y_pred = eec.predict(X_test_scaled)"
      ]
    },
    {
      "cell_type": "code",
      "execution_count": 12,
      "metadata": {
        "id": "0ycxxrgjyy32"
      },
      "outputs": [
        {
          "name": "stdout",
          "output_type": "stream",
          "text": [
            "0.9253105220961199\n"
          ]
        }
      ],
      "source": [
        "# Calculated the balanced accuracy score\n",
        "print(balanced_accuracy_score(y_test, y_pred))"
      ]
    },
    {
      "cell_type": "code",
      "execution_count": 13,
      "metadata": {
        "id": "9PEGNI0nyy32"
      },
      "outputs": [
        {
          "name": "stdout",
          "output_type": "stream",
          "text": [
            "[[   79     8]\n",
            " [  983 16135]]\n"
          ]
        }
      ],
      "source": [
        "# Display the confusion matrix\n",
        "print(confusion_matrix(y_test, y_pred))"
      ]
    },
    {
      "cell_type": "code",
      "execution_count": 14,
      "metadata": {
        "id": "-26T8cMqyy33"
      },
      "outputs": [
        {
          "name": "stdout",
          "output_type": "stream",
          "text": [
            "                   pre       rec       spe        f1       geo       iba       sup\n",
            "\n",
            "  high_risk       0.07      0.91      0.94      0.14      0.93      0.85        87\n",
            "   low_risk       1.00      0.94      0.91      0.97      0.93      0.86     17118\n",
            "\n",
            "avg / total       0.99      0.94      0.91      0.97      0.93      0.86     17205\n",
            "\n"
          ]
        }
      ],
      "source": [
        "# Print the imbalanced classification report\n",
        "print(classification_report_imbalanced(y_test, y_pred))"
      ]
    },
    {
      "cell_type": "code",
      "execution_count": null,
      "metadata": {
        "id": "Fo_vyK6Myy33"
      },
      "outputs": [],
      "source": []
    }
  ],
  "metadata": {
    "colab": {
      "collapsed_sections": [],
      "name": "credit_risk_ensemble.ipynb",
      "provenance": []
    },
    "interpreter": {
      "hash": "86969af4118fd2beaee010b14a97d3c8fe7dc31ff55f1528eea7eaecb45368d6"
    },
    "kernelspec": {
      "display_name": "mlenv",
      "language": "python",
      "name": "python3"
    },
    "language_info": {
      "codemirror_mode": {
        "name": "ipython",
        "version": 3
      },
      "file_extension": ".py",
      "mimetype": "text/x-python",
      "name": "python",
      "nbconvert_exporter": "python",
      "pygments_lexer": "ipython3",
      "version": "3.7.13"
    }
  },
  "nbformat": 4,
  "nbformat_minor": 0
}
